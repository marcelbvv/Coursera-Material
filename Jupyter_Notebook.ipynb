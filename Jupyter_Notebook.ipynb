{
 "cells": [
  {
   "cell_type": "markdown",
   "metadata": {},
   "source": [
    "<center>\n",
    "    <img src=\"https://s3-api.us-geo.objectstorage.softlayer.net/cf-courses-data/CognitiveClass/Logos/organization_logo/organization_logo.png\" width=\"300\" alt=\"cognitiveclass.ai logo\"  />\n",
    "</center>\n"
   ]
  },
  {
   "cell_type": "markdown",
   "metadata": {},
   "source": [
    "#### Add your code below following the instructions given in the course\n"
   ]
  },
  {
   "cell_type": "markdown",
   "metadata": {},
   "source": [
    "# My Jupyter Notebook on IBM Watson Studio"
   ]
  },
  {
   "cell_type": "markdown",
   "metadata": {},
   "source": [
    "**Marcel"
   ]
  },
  {
   "cell_type": "markdown",
   "metadata": {},
   "source": [
    "_I'm interested in Data Science because it helps me interpret and optimize the systems around me_"
   ]
  },
  {
   "cell_type": "markdown",
   "metadata": {},
   "source": [
    "### This code shows the difference between a poisson distribution and a normal distribution"
   ]
  },
  {
   "cell_type": "code",
   "execution_count": 1,
   "metadata": {},
   "outputs": [
    {
     "data": {
      "image/png": "[encoded data removed]",
      "text/plain": [
       "<Figure size 640x480 with 1 Axes>"
      ]
     },
     "metadata": {},
     "output_type": "display_data"
    },
    {
     "name": "stdout",
     "output_type": "stream",
     "text": [
      "Mean of Poisson: 9.9422\n",
      "Variance of Poisson: 9.51005916\n",
      "Mean of Normal: 10.013715645829256\n",
      "Variance of Normal: 9.431175436144906\n"
     ]
    }
   ],
   "source": [
    "from scipy.stats import poisson\n",
    "import matplotlib.pyplot as plt\n",
    "import numpy as np\n",
    "\n",
    "p = np.random.poisson(10, 5000)\n",
    "p_mean = np.mean(p)\n",
    "p_var = np.var(p)\n",
    "p_std = np.std(p)\n",
    "n = np.random.normal(10, p_std, 5000)\n",
    "n_mean = np.mean(n)\n",
    "n_var = np.var(n)\n",
    "\n",
    "fig, ax = plt.subplots(1,1)\n",
    "p_count, p_bins, _ = ax.hist(p, 20, density=True, label='Poisson')\n",
    "n_count, n_bins, _ = ax.hist(n, 20, density=True, label='Normal')\n",
    "ax.legend()\n",
    "plt.show()\n",
    "\n",
    "print('Mean of Poisson: {}'.format(p_mean))\n",
    "print('Variance of Poisson: {}'.format(p_var))\n",
    "print('Mean of Normal: {}'.format(n_mean))\n",
    "print('Variance of Normal: {}'.format(n_var))\n"
   ]
  },
  {
   "cell_type": "markdown",
   "metadata": {},
   "source": [
    "|Type|Mean|Var|\n",
    "|----|----|---|\n",
    "|Normal|10.0062|9.9106|\n",
    "|Poisson|10.057|10.0247|\n",
    "\n",
    "This table includes:\n",
    "- Poisson\n",
    ">1. Mean\n",
    ">2. Var\n",
    "- Normal\n",
    ">1. Mean\n",
    ">2. Var"
   ]
  }
 ],
 "metadata": {
  "kernelspec": {
   "display_name": "Python",
   "language": "python",
   "name": "conda-env-python-py"
  },
  "language_info": {
   "codemirror_mode": {
    "name": "ipython",
    "version": 3
   },
   "file_extension": ".py",
   "mimetype": "text/x-python",
   "name": "python",
   "nbconvert_exporter": "python",
   "pygments_lexer": "ipython3",
   "version": "3.7.12"
  }
 },
 "nbformat": 4,
 "nbformat_minor": 4
}
